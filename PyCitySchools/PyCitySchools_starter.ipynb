{
 "cells": [
  {
   "cell_type": "markdown",
   "metadata": {},
   "source": [
    "### Note\n",
    "* Instructions have been included for each segment. You do not have to follow them exactly, but they are included to help you think through the steps."
   ]
  },
  {
   "cell_type": "code",
   "execution_count": 1,
   "metadata": {
    "tags": [
     "Import Dependencies Load CSV"
    ]
   },
   "outputs": [],
   "source": [
    "# Dependencies and Setup\n",
    "import pandas as pd\n",
    "\n",
    "# File to Loead (Remember to Change These)\n",
    "school_data_to_load = \"Resources/schools_complete.csv\"\n",
    "student_data_to_load = \"Resources/students_complete.csv\"\n",
    "\n",
    "# Read School and Student Data File and store into Pandas DataFrames\n",
    "school_data = pd.read_csv(school_data_to_load)\n",
    "student_data = pd.read_csv(student_data_to_load)\n",
    "\n",
    "# Combine the data into a single dataset.\n",
    "school_data_complete = pd.merge(student_data, school_data, how=\"left\", on=[\n",
    "                                \"school_name\", \"school_name\"])\n"
   ]
  },
  {
   "cell_type": "code",
   "execution_count": 2,
   "metadata": {},
   "outputs": [
    {
     "data": {
      "text/html": [
       "<div>\n",
       "<style scoped>\n",
       "    .dataframe tbody tr th:only-of-type {\n",
       "        vertical-align: middle;\n",
       "    }\n",
       "\n",
       "    .dataframe tbody tr th {\n",
       "        vertical-align: top;\n",
       "    }\n",
       "\n",
       "    .dataframe thead th {\n",
       "        text-align: right;\n",
       "    }\n",
       "</style>\n",
       "<table border=\"1\" class=\"dataframe\">\n",
       "  <thead>\n",
       "    <tr style=\"text-align: right;\">\n",
       "      <th></th>\n",
       "      <th>Student ID</th>\n",
       "      <th>student_name</th>\n",
       "      <th>gender</th>\n",
       "      <th>year</th>\n",
       "      <th>school_name</th>\n",
       "      <th>reading_score</th>\n",
       "      <th>maths_score</th>\n",
       "      <th>School ID</th>\n",
       "      <th>type</th>\n",
       "      <th>size</th>\n",
       "      <th>budget</th>\n",
       "    </tr>\n",
       "  </thead>\n",
       "  <tbody>\n",
       "    <tr>\n",
       "      <th>0</th>\n",
       "      <td>0</td>\n",
       "      <td>Paul Bradley</td>\n",
       "      <td>M</td>\n",
       "      <td>9</td>\n",
       "      <td>Huang High School</td>\n",
       "      <td>96</td>\n",
       "      <td>94</td>\n",
       "      <td>0</td>\n",
       "      <td>Government</td>\n",
       "      <td>2917</td>\n",
       "      <td>1910635</td>\n",
       "    </tr>\n",
       "    <tr>\n",
       "      <th>1</th>\n",
       "      <td>1</td>\n",
       "      <td>Victor Smith</td>\n",
       "      <td>M</td>\n",
       "      <td>12</td>\n",
       "      <td>Huang High School</td>\n",
       "      <td>90</td>\n",
       "      <td>43</td>\n",
       "      <td>0</td>\n",
       "      <td>Government</td>\n",
       "      <td>2917</td>\n",
       "      <td>1910635</td>\n",
       "    </tr>\n",
       "    <tr>\n",
       "      <th>2</th>\n",
       "      <td>2</td>\n",
       "      <td>Kevin Rodriguez</td>\n",
       "      <td>M</td>\n",
       "      <td>12</td>\n",
       "      <td>Huang High School</td>\n",
       "      <td>41</td>\n",
       "      <td>76</td>\n",
       "      <td>0</td>\n",
       "      <td>Government</td>\n",
       "      <td>2917</td>\n",
       "      <td>1910635</td>\n",
       "    </tr>\n",
       "    <tr>\n",
       "      <th>3</th>\n",
       "      <td>3</td>\n",
       "      <td>Richard Scott</td>\n",
       "      <td>M</td>\n",
       "      <td>12</td>\n",
       "      <td>Huang High School</td>\n",
       "      <td>89</td>\n",
       "      <td>86</td>\n",
       "      <td>0</td>\n",
       "      <td>Government</td>\n",
       "      <td>2917</td>\n",
       "      <td>1910635</td>\n",
       "    </tr>\n",
       "    <tr>\n",
       "      <th>4</th>\n",
       "      <td>4</td>\n",
       "      <td>Bonnie Ray</td>\n",
       "      <td>F</td>\n",
       "      <td>9</td>\n",
       "      <td>Huang High School</td>\n",
       "      <td>87</td>\n",
       "      <td>69</td>\n",
       "      <td>0</td>\n",
       "      <td>Government</td>\n",
       "      <td>2917</td>\n",
       "      <td>1910635</td>\n",
       "    </tr>\n",
       "    <tr>\n",
       "      <th>...</th>\n",
       "      <td>...</td>\n",
       "      <td>...</td>\n",
       "      <td>...</td>\n",
       "      <td>...</td>\n",
       "      <td>...</td>\n",
       "      <td>...</td>\n",
       "      <td>...</td>\n",
       "      <td>...</td>\n",
       "      <td>...</td>\n",
       "      <td>...</td>\n",
       "      <td>...</td>\n",
       "    </tr>\n",
       "    <tr>\n",
       "      <th>39165</th>\n",
       "      <td>39165</td>\n",
       "      <td>Donna Howard</td>\n",
       "      <td>F</td>\n",
       "      <td>12</td>\n",
       "      <td>Thomas High School</td>\n",
       "      <td>51</td>\n",
       "      <td>48</td>\n",
       "      <td>14</td>\n",
       "      <td>Independent</td>\n",
       "      <td>1635</td>\n",
       "      <td>1043130</td>\n",
       "    </tr>\n",
       "    <tr>\n",
       "      <th>39166</th>\n",
       "      <td>39166</td>\n",
       "      <td>Dawn Bell</td>\n",
       "      <td>F</td>\n",
       "      <td>10</td>\n",
       "      <td>Thomas High School</td>\n",
       "      <td>81</td>\n",
       "      <td>89</td>\n",
       "      <td>14</td>\n",
       "      <td>Independent</td>\n",
       "      <td>1635</td>\n",
       "      <td>1043130</td>\n",
       "    </tr>\n",
       "    <tr>\n",
       "      <th>39167</th>\n",
       "      <td>39167</td>\n",
       "      <td>Rebecca Tanner</td>\n",
       "      <td>F</td>\n",
       "      <td>9</td>\n",
       "      <td>Thomas High School</td>\n",
       "      <td>99</td>\n",
       "      <td>99</td>\n",
       "      <td>14</td>\n",
       "      <td>Independent</td>\n",
       "      <td>1635</td>\n",
       "      <td>1043130</td>\n",
       "    </tr>\n",
       "    <tr>\n",
       "      <th>39168</th>\n",
       "      <td>39168</td>\n",
       "      <td>Desiree Kidd</td>\n",
       "      <td>F</td>\n",
       "      <td>10</td>\n",
       "      <td>Thomas High School</td>\n",
       "      <td>72</td>\n",
       "      <td>77</td>\n",
       "      <td>14</td>\n",
       "      <td>Independent</td>\n",
       "      <td>1635</td>\n",
       "      <td>1043130</td>\n",
       "    </tr>\n",
       "    <tr>\n",
       "      <th>39169</th>\n",
       "      <td>39169</td>\n",
       "      <td>Carolyn Jackson</td>\n",
       "      <td>F</td>\n",
       "      <td>11</td>\n",
       "      <td>Thomas High School</td>\n",
       "      <td>47</td>\n",
       "      <td>62</td>\n",
       "      <td>14</td>\n",
       "      <td>Independent</td>\n",
       "      <td>1635</td>\n",
       "      <td>1043130</td>\n",
       "    </tr>\n",
       "  </tbody>\n",
       "</table>\n",
       "<p>39170 rows × 11 columns</p>\n",
       "</div>"
      ],
      "text/plain": [
       "       Student ID     student_name gender  year         school_name  \\\n",
       "0               0     Paul Bradley      M     9   Huang High School   \n",
       "1               1     Victor Smith      M    12   Huang High School   \n",
       "2               2  Kevin Rodriguez      M    12   Huang High School   \n",
       "3               3    Richard Scott      M    12   Huang High School   \n",
       "4               4       Bonnie Ray      F     9   Huang High School   \n",
       "...           ...              ...    ...   ...                 ...   \n",
       "39165       39165     Donna Howard      F    12  Thomas High School   \n",
       "39166       39166        Dawn Bell      F    10  Thomas High School   \n",
       "39167       39167   Rebecca Tanner      F     9  Thomas High School   \n",
       "39168       39168     Desiree Kidd      F    10  Thomas High School   \n",
       "39169       39169  Carolyn Jackson      F    11  Thomas High School   \n",
       "\n",
       "       reading_score  maths_score  School ID         type  size   budget  \n",
       "0                 96           94          0   Government  2917  1910635  \n",
       "1                 90           43          0   Government  2917  1910635  \n",
       "2                 41           76          0   Government  2917  1910635  \n",
       "3                 89           86          0   Government  2917  1910635  \n",
       "4                 87           69          0   Government  2917  1910635  \n",
       "...              ...          ...        ...          ...   ...      ...  \n",
       "39165             51           48         14  Independent  1635  1043130  \n",
       "39166             81           89         14  Independent  1635  1043130  \n",
       "39167             99           99         14  Independent  1635  1043130  \n",
       "39168             72           77         14  Independent  1635  1043130  \n",
       "39169             47           62         14  Independent  1635  1043130  \n",
       "\n",
       "[39170 rows x 11 columns]"
      ]
     },
     "execution_count": 2,
     "metadata": {},
     "output_type": "execute_result"
    }
   ],
   "source": [
    "####### \n",
    "# student_data\n",
    "# school_data\n",
    "school_data_complete\n"
   ]
  },
  {
   "cell_type": "markdown",
   "metadata": {
    "tags": [
     "parameters"
    ]
   },
   "source": [
    "## Local Government Area Summary\n",
    "\n",
    "* Calculate the total number of schools\n",
    "\n",
    "* Calculate the total number of students\n",
    "\n",
    "* Calculate the total budget\n",
    "\n",
    "* Calculate the average maths score \n",
    "\n",
    "* Calculate the average reading score\n",
    "\n",
    "* Calculate the percentage of students with a passing maths score (50 or greater)\n",
    "\n",
    "* Calculate the percentage of students with a passing reading score (50 or greater)\n",
    "\n",
    "* Calculate the percentage of students who passed maths **and** reading (% Overall Passing)\n",
    "\n",
    "* Create a dataframe to hold the above results\n",
    "\n",
    "* Optional: give the displayed data cleaner formatting"
   ]
  },
  {
   "cell_type": "code",
   "execution_count": 3,
   "metadata": {},
   "outputs": [
    {
     "name": "stdout",
     "output_type": "stream",
     "text": [
      "The total number of schools is 15\n"
     ]
    }
   ],
   "source": [
    "# Calculate the total number of schools\n",
    "\n",
    "schools_series = school_data_complete[\"school_name\"].unique()\n",
    "\n",
    "schools_count = len(schools_series)\n",
    "\n",
    "print(f\"The total number of schools is {schools_count}\")"
   ]
  },
  {
   "cell_type": "code",
   "execution_count": 4,
   "metadata": {},
   "outputs": [
    {
     "name": "stdout",
     "output_type": "stream",
     "text": [
      "The total number of students is 39170\n"
     ]
    }
   ],
   "source": [
    "# Calculate the total number of students\n",
    "\n",
    "student_count = student_data[\"student_name\"].count()\n",
    "\n",
    "print(f\"The total number of students is {student_count}\")\n"
   ]
  },
  {
   "cell_type": "code",
   "execution_count": 5,
   "metadata": {},
   "outputs": [
    {
     "name": "stdout",
     "output_type": "stream",
     "text": [
      "The total budget is 24649428\n"
     ]
    }
   ],
   "source": [
    "# * Calculate the total budget\n",
    "\n",
    "total_budget = school_data[\"budget\"].sum()\n",
    "\n",
    "print(f\"The total budget is {total_budget}\")\n"
   ]
  },
  {
   "cell_type": "code",
   "execution_count": 6,
   "metadata": {},
   "outputs": [
    {
     "name": "stdout",
     "output_type": "stream",
     "text": [
      "The average maths score is 70.33819249425581\n"
     ]
    }
   ],
   "source": [
    "# * Calculate the average maths score\n",
    "\n",
    "maths_average = school_data_complete[\"maths_score\"].mean()\n",
    "\n",
    "print(f\"The average maths score is {maths_average}\")"
   ]
  },
  {
   "cell_type": "code",
   "execution_count": 7,
   "metadata": {},
   "outputs": [
    {
     "name": "stdout",
     "output_type": "stream",
     "text": [
      "The average reading score is 69.98013786060761\n"
     ]
    }
   ],
   "source": [
    "# * Calculate the average reading score\n",
    "\n",
    "reading_average = school_data_complete[\"reading_score\"].mean()\n",
    "\n",
    "print(f\"The average reading score is {reading_average}\")"
   ]
  },
  {
   "cell_type": "code",
   "execution_count": 8,
   "metadata": {},
   "outputs": [
    {
     "name": "stdout",
     "output_type": "stream",
     "text": [
      "The percentage of students with a passing maths score is 86.07863160582077%\n"
     ]
    }
   ],
   "source": [
    "# * Calculate the percentage of students with a passing maths score (50 or greater)\n",
    "\n",
    "math_pass_students = school_data_complete.loc[school_data_complete[\"maths_score\"] >= 50,:]\n",
    "\n",
    "number_math_pass = len(math_pass_students) / len(school_data_complete[\"maths_score\"])\n",
    "\n",
    "number_math_pass = number_math_pass * 100\n",
    "\n",
    "print(f\"The percentage of students with a passing maths score is {number_math_pass}%\")"
   ]
  },
  {
   "cell_type": "code",
   "execution_count": 9,
   "metadata": {},
   "outputs": [
    {
     "name": "stdout",
     "output_type": "stream",
     "text": [
      "The percentage of students with a passing reading score is 84.42685728874139%\n"
     ]
    }
   ],
   "source": [
    "# * Calculate the percentage of students with a passing reading score (50 or greater)\n",
    "\n",
    "read_pass_students = school_data_complete.loc[school_data_complete[\"reading_score\"] >= 50,:]\n",
    "\n",
    "number_read_pass = len(read_pass_students) / len(school_data_complete[\"reading_score\"])\n",
    "\n",
    "number_read_pass = number_read_pass * 100\n",
    "\n",
    "print(f\"The percentage of students with a passing reading score is {number_read_pass}%\")"
   ]
  },
  {
   "cell_type": "code",
   "execution_count": 10,
   "metadata": {},
   "outputs": [
    {
     "name": "stdout",
     "output_type": "stream",
     "text": [
      "The percentage of students with a passing reading score and a passing math score is 85.25274444728109%\n"
     ]
    }
   ],
   "source": [
    "# * Calculate the percentage of students who passed maths **and** reading (% Overall Passing)\n",
    "\n",
    "total_pass_read = len(read_pass_students)\n",
    "total_pass_math = len(math_pass_students)\n",
    "total_pass = total_pass_read + total_pass_math\n",
    "total_read = len(school_data_complete[\"reading_score\"])\n",
    "total_math = len(school_data_complete[\"maths_score\"])\n",
    "total_all = total_read + total_math\n",
    "\n",
    "total_both = total_pass / total_all\n",
    "\n",
    "total_both = total_both * 100\n",
    "\n",
    "print(f\"The percentage of students with a passing reading score and a passing math score is {total_both}%\")"
   ]
  },
  {
   "cell_type": "code",
   "execution_count": 11,
   "metadata": {},
   "outputs": [
    {
     "data": {
      "text/html": [
       "<div>\n",
       "<style scoped>\n",
       "    .dataframe tbody tr th:only-of-type {\n",
       "        vertical-align: middle;\n",
       "    }\n",
       "\n",
       "    .dataframe tbody tr th {\n",
       "        vertical-align: top;\n",
       "    }\n",
       "\n",
       "    .dataframe thead th {\n",
       "        text-align: right;\n",
       "    }\n",
       "</style>\n",
       "<table border=\"1\" class=\"dataframe\">\n",
       "  <thead>\n",
       "    <tr style=\"text-align: right;\">\n",
       "      <th></th>\n",
       "      <th>Total Number Of Schools</th>\n",
       "      <th>Total Number Of Students</th>\n",
       "      <th>Total Budget</th>\n",
       "      <th>Average Maths Score</th>\n",
       "      <th>Average Reading Score</th>\n",
       "      <th>Percentage Of Students With A Passing Maths Score</th>\n",
       "      <th>Percentage Of Students With A Passing Reading Score</th>\n",
       "      <th>Percentage Of Students With A Passing Maths &amp; Reading Score</th>\n",
       "    </tr>\n",
       "  </thead>\n",
       "  <tbody>\n",
       "    <tr>\n",
       "      <th>0</th>\n",
       "      <td>15</td>\n",
       "      <td>39170</td>\n",
       "      <td>24649428</td>\n",
       "      <td>70.338192</td>\n",
       "      <td>69.980138</td>\n",
       "      <td>86.078632</td>\n",
       "      <td>84.426857</td>\n",
       "      <td>85.252744</td>\n",
       "    </tr>\n",
       "  </tbody>\n",
       "</table>\n",
       "</div>"
      ],
      "text/plain": [
       "   Total Number Of Schools  Total Number Of Students  Total Budget  \\\n",
       "0                       15                     39170      24649428   \n",
       "\n",
       "   Average Maths Score  Average Reading Score  \\\n",
       "0            70.338192              69.980138   \n",
       "\n",
       "   Percentage Of Students With A Passing Maths Score  \\\n",
       "0                                          86.078632   \n",
       "\n",
       "   Percentage Of Students With A Passing Reading Score  \\\n",
       "0                                          84.426857     \n",
       "\n",
       "   Percentage Of Students With A Passing Maths & Reading Score  \n",
       "0                                          85.252744            "
      ]
     },
     "execution_count": 11,
     "metadata": {},
     "output_type": "execute_result"
    }
   ],
   "source": [
    "# * Create a dataframe to hold the above results\n",
    "\n",
    "results_df = pd.DataFrame({\n",
    "    \"Total Number Of Schools\": [schools_count],\n",
    "    \"Total Number Of Students\": [student_count],\n",
    "    \"Total Budget\": [total_budget],\n",
    "    \"Average Maths Score\": [maths_average],\n",
    "    \"Average Reading Score\": [reading_average],\n",
    "    \"Percentage Of Students With A Passing Maths Score\": [number_math_pass],\n",
    "    \"Percentage Of Students With A Passing Reading Score\": [number_read_pass],\n",
    "    \"Percentage Of Students With A Passing Maths & Reading Score\": [total_both]\n",
    "    })\n",
    "\n",
    "results_df"
   ]
  },
  {
   "cell_type": "code",
   "execution_count": 12,
   "metadata": {},
   "outputs": [
    {
     "data": {
      "text/html": [
       "<div>\n",
       "<style scoped>\n",
       "    .dataframe tbody tr th:only-of-type {\n",
       "        vertical-align: middle;\n",
       "    }\n",
       "\n",
       "    .dataframe tbody tr th {\n",
       "        vertical-align: top;\n",
       "    }\n",
       "\n",
       "    .dataframe thead th {\n",
       "        text-align: right;\n",
       "    }\n",
       "</style>\n",
       "<table border=\"1\" class=\"dataframe\">\n",
       "  <thead>\n",
       "    <tr style=\"text-align: right;\">\n",
       "      <th></th>\n",
       "      <th>Total Number Of Schools</th>\n",
       "      <th>Total Number Of Students</th>\n",
       "      <th>Total Budget</th>\n",
       "      <th>Average Maths Score</th>\n",
       "      <th>Average Reading Score</th>\n",
       "      <th>Percentage Of Students With A Passing Maths Score</th>\n",
       "      <th>Percentage Of Students With A Passing Reading Score</th>\n",
       "      <th>Percentage Of Students With A Passing Maths &amp; Reading Score</th>\n",
       "    </tr>\n",
       "  </thead>\n",
       "  <tbody>\n",
       "    <tr>\n",
       "      <th>0</th>\n",
       "      <td>15</td>\n",
       "      <td>39,170</td>\n",
       "      <td>$24,649,428</td>\n",
       "      <td>70.34%</td>\n",
       "      <td>69.98%</td>\n",
       "      <td>86.08%</td>\n",
       "      <td>84.43%</td>\n",
       "      <td>85.25%</td>\n",
       "    </tr>\n",
       "  </tbody>\n",
       "</table>\n",
       "</div>"
      ],
      "text/plain": [
       "   Total Number Of Schools Total Number Of Students Total Budget  \\\n",
       "0                       15                   39,170  $24,649,428   \n",
       "\n",
       "  Average Maths Score Average Reading Score  \\\n",
       "0              70.34%                69.98%   \n",
       "\n",
       "  Percentage Of Students With A Passing Maths Score  \\\n",
       "0                                            86.08%   \n",
       "\n",
       "  Percentage Of Students With A Passing Reading Score  \\\n",
       "0                                             84.43%    \n",
       "\n",
       "  Percentage Of Students With A Passing Maths & Reading Score  \n",
       "0                                             85.25%           "
      ]
     },
     "execution_count": 12,
     "metadata": {},
     "output_type": "execute_result"
    }
   ],
   "source": [
    "# * Optional: give the displayed data cleaner formatting\n",
    "results_df[\"Total Budget\"] = results_df[\"Total Budget\"].map(\"${:,}\".format)\n",
    "results_df[\"Total Number Of Students\"] = results_df[\"Total Number Of Students\"].map(\"{:,}\".format)\n",
    "results_df[\"Average Maths Score\"] = results_df[\"Average Maths Score\"].map(\"{:.2f}%\".format)\n",
    "results_df[\"Average Reading Score\"] = results_df[\"Average Reading Score\"].map(\"{:.2f}%\".format)\n",
    "results_df[\"Percentage Of Students With A Passing Maths Score\"] = results_df[\"Percentage Of Students With A Passing Maths Score\"].map(\"{:.2f}%\".format)\n",
    "results_df[\"Percentage Of Students With A Passing Reading Score\"] = results_df[\"Percentage Of Students With A Passing Reading Score\"].map(\"{:.2f}%\".format)\n",
    "results_df[\"Percentage Of Students With A Passing Maths & Reading Score\"] = results_df[\"Percentage Of Students With A Passing Maths & Reading Score\"].map(\"{:.2f}%\".format)\n",
    "results_df\n"
   ]
  },
  {
   "cell_type": "markdown",
   "metadata": {},
   "source": [
    "## School Summary"
   ]
  },
  {
   "cell_type": "markdown",
   "metadata": {},
   "source": [
    "* Create an overview table that summarises key metrics about each school, including:\n",
    "  * School Name\n",
    "  * School Type\n",
    "  * Total Students\n",
    "  * Total School Budget\n",
    "  * Per Student Budget\n",
    "  * Average Maths Score\n",
    "  * Average Reading Score\n",
    "  * % Passing Maths\n",
    "  * % Passing Reading\n",
    "  * % Overall Passing (The percentage of students that passed maths **and** reading.)\n",
    "  \n",
    "* Create a dataframe to hold the above results"
   ]
  },
  {
   "cell_type": "code",
   "execution_count": 22,
   "metadata": {},
   "outputs": [
    {
     "name": "stdout",
     "output_type": "stream",
     "text": [
      "{<pandas.core.groupby.generic.DataFrameGroupBy object at 0x000001EC6A4450C8>}\n"
     ]
    }
   ],
   "source": [
    "# School name\n",
    "school_names = school_data_complete.set_index(\"school_name\").groupby([\"school_name\"])\n",
    "print({school_names})\n",
    "\n",
    "\n"
   ]
  },
  {
   "cell_type": "code",
   "execution_count": null,
   "metadata": {},
   "outputs": [],
   "source": [
    "# School type\n"
   ]
  },
  {
   "cell_type": "markdown",
   "metadata": {},
   "source": [
    "## Top Performing Schools (By % Overall Passing)"
   ]
  },
  {
   "cell_type": "markdown",
   "metadata": {},
   "source": [
    "* Sort and display the top five performing schools by % overall passing."
   ]
  },
  {
   "cell_type": "code",
   "execution_count": null,
   "metadata": {
    "scrolled": true
   },
   "outputs": [],
   "source": []
  },
  {
   "cell_type": "markdown",
   "metadata": {},
   "source": [
    "## Bottom Performing Schools (By % Overall Passing)"
   ]
  },
  {
   "cell_type": "markdown",
   "metadata": {},
   "source": [
    "* Sort and display the five worst-performing schools by % overall passing."
   ]
  },
  {
   "cell_type": "code",
   "execution_count": null,
   "metadata": {},
   "outputs": [],
   "source": []
  },
  {
   "cell_type": "markdown",
   "metadata": {
    "collapsed": true
   },
   "source": [
    "## Maths Scores by Year"
   ]
  },
  {
   "cell_type": "markdown",
   "metadata": {},
   "source": [
    "* Create a table that lists the average maths score for students of each year level (9, 10, 11, 12) at each school.\n",
    "\n",
    "  * Create a pandas series for each year. Hint: use a conditional statement.\n",
    "  \n",
    "  * Group each series by school\n",
    "  \n",
    "  * Combine the series into a dataframe\n",
    "  \n",
    "  * Optional: give the displayed data cleaner formatting"
   ]
  },
  {
   "cell_type": "code",
   "execution_count": null,
   "metadata": {},
   "outputs": [],
   "source": []
  },
  {
   "cell_type": "markdown",
   "metadata": {},
   "source": [
    "## Reading Score by Year"
   ]
  },
  {
   "cell_type": "markdown",
   "metadata": {},
   "source": [
    "* Perform the same operations as above for reading scores"
   ]
  },
  {
   "cell_type": "code",
   "execution_count": null,
   "metadata": {},
   "outputs": [],
   "source": []
  },
  {
   "cell_type": "markdown",
   "metadata": {},
   "source": [
    "## Scores by School Spending"
   ]
  },
  {
   "cell_type": "markdown",
   "metadata": {},
   "source": [
    "* Create a table that breaks down school performances based on average Spending Ranges (Per Student). Use 4 reasonable bins to group school spending. Include in the table each of the following:\n",
    "  * Average Maths Score\n",
    "  * Average Reading Score\n",
    "  * % Passing Maths\n",
    "  * % Passing Reading\n",
    "  * Overall Passing Rate (Average of the above two)"
   ]
  },
  {
   "cell_type": "code",
   "execution_count": null,
   "metadata": {},
   "outputs": [],
   "source": []
  },
  {
   "cell_type": "markdown",
   "metadata": {},
   "source": [
    "## Scores by School Size"
   ]
  },
  {
   "cell_type": "markdown",
   "metadata": {},
   "source": [
    "* Perform the same operations as above, based on school size."
   ]
  },
  {
   "cell_type": "code",
   "execution_count": null,
   "metadata": {
    "scrolled": true
   },
   "outputs": [],
   "source": [
    "# scores by school size"
   ]
  },
  {
   "cell_type": "markdown",
   "metadata": {},
   "source": [
    "## Scores by School Type"
   ]
  },
  {
   "cell_type": "markdown",
   "metadata": {},
   "source": [
    "* Perform the same operations as above, based on school type"
   ]
  },
  {
   "cell_type": "code",
   "execution_count": null,
   "metadata": {},
   "outputs": [],
   "source": []
  },
  {
   "cell_type": "code",
   "execution_count": null,
   "metadata": {},
   "outputs": [],
   "source": []
  }
 ],
 "metadata": {
  "anaconda-cloud": {},
  "kernel_info": {
   "name": "python3"
  },
  "kernelspec": {
   "display_name": "PythonData",
   "language": "python",
   "name": "python3"
  },
  "language_info": {
   "codemirror_mode": {
    "name": "ipython",
    "version": 3
   },
   "file_extension": ".py",
   "mimetype": "text/x-python",
   "name": "python",
   "nbconvert_exporter": "python",
   "pygments_lexer": "ipython3",
   "version": "3.7.7"
  },
  "latex_envs": {
   "LaTeX_envs_menu_present": true,
   "autoclose": false,
   "autocomplete": true,
   "bibliofile": "biblio.bib",
   "cite_by": "apalike",
   "current_citInitial": 1,
   "eqLabelWithNumbers": true,
   "eqNumInitial": 1,
   "hotkeys": {
    "equation": "Ctrl-E",
    "itemize": "Ctrl-I"
   },
   "labels_anchors": false,
   "latex_user_defs": false,
   "report_style_numbering": false,
   "user_envs_cfg": false
  },
  "nteract": {
   "version": "0.8.4"
  },
  "vscode": {
   "interpreter": {
    "hash": "42f11aff1c057812df87c774017a60518f744b69b0401caac01fc7867a42b09d"
   }
  }
 },
 "nbformat": 4,
 "nbformat_minor": 1
}
